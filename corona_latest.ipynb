{
  "nbformat": 4,
  "nbformat_minor": 0,
  "metadata": {
    "colab": {
      "provenance": []
    },
    "kernelspec": {
      "name": "python3",
      "display_name": "Python 3"
    },
    "language_info": {
      "name": "python"
    }
  },
  "cells": [
    {
      "cell_type": "code",
      "execution_count": 2,
      "metadata": {
        "id": "k2HBE5gtLkdc"
      },
      "outputs": [],
      "source": [
        "import numpy as np\n",
        "import matplotlib.pyplot as plt\n",
        "import pandas as pd"
      ]
    },
    {
      "cell_type": "code",
      "source": [
        "dataset = pd.read_csv('corona_latest.csv')\n",
        "x = dataset.iloc[:, :-1].values\n",
        "y = dataset.iloc[:, -1].values"
      ],
      "metadata": {
        "id": "l0YyF3rtMHfh"
      },
      "execution_count": 155,
      "outputs": []
    },
    {
      "cell_type": "code",
      "source": [
        "print(x)"
      ],
      "metadata": {
        "id": "NEOqwnn9MKRW",
        "colab": {
          "base_uri": "https://localhost:8080/"
        },
        "outputId": "1bc46f7e-1a84-4c66-e33a-58156198c09f"
      },
      "execution_count": 156,
      "outputs": [
        {
          "output_type": "stream",
          "name": "stdout",
          "text": [
            "[[0 'USA' 560433 ... 1693.0 67.0 2833112.0]\n",
            " [1 'Spain' 166831 ... 3568.0 368.0 600000.0]\n",
            " [2 'Italy' 156363 ... 2586.0 329.0 1010193.0]\n",
            " ...\n",
            " [209 'Timor-Leste' 2 ... 2.0 0.0 0.0]\n",
            " [210 'Saint Pierre Miquelon' 1 ... 173.0 0.0 0.0]\n",
            " [211 'Yemen' 1 ... 0.03 0.0 0.0]]\n"
          ]
        }
      ]
    },
    {
      "cell_type": "code",
      "source": [
        "print(y)"
      ],
      "metadata": {
        "colab": {
          "base_uri": "https://localhost:8080/"
        },
        "id": "6qfDxc3RMMPk",
        "outputId": "256867d3-d892-41cb-eda5-d6556efe9fa3"
      },
      "execution_count": 157,
      "outputs": [
        {
          "output_type": "stream",
          "name": "stdout",
          "text": [
            "[8.55900e+03 1.28330e+04 1.67080e+04 5.11400e+03 1.57300e+04 5.20000e+03\n",
            " 0.00000e+00 3.13600e+03 4.45900e+03 8.81400e+03 5.92600e+03 2.23930e+04\n",
            " 1.11860e+04 2.96000e+02 1.60460e+04 8.22300e+03 1.60860e+04 1.35570e+04\n",
            " 1.00380e+04 5.41600e+03 1.07340e+04 1.37000e+02 2.32000e+03 1.34000e+03\n",
            " 6.12000e+02 4.30400e+03 3.64600e+03 2.33320e+04 1.38800e+04 3.24000e+03\n",
            " 1.21070e+04 1.16840e+04 2.95000e+02 2.39400e+03 2.84000e+02 3.09000e+02\n",
            " 3.32000e+03 9.90000e+01 6.55380e+04 2.09600e+03 3.51100e+03 4.65910e+04\n",
            " 1.70430e+04 8.12500e+03 8.55000e+02 6.93000e+02 8.21000e+02 1.03000e+03\n",
            " 6.77300e+03 1.24230e+04 4.37000e+02 1.35000e+03 4.05500e+03 2.44000e+02\n",
            " 7.70000e+01 1.03308e+05 1.55500e+03 2.30000e+02 3.99000e+03 3.60400e+03\n",
            " 8.80000e+02 1.30290e+04 2.28780e+04 0.00000e+00 1.67640e+04 3.75960e+04\n",
            " 6.57600e+03 1.52460e+04 2.41800e+03 3.34500e+03 1.29000e+04 3.69100e+03\n",
            " 2.09100e+03 3.86700e+03 0.00000e+00 5.02300e+03 0.00000e+00 9.51000e+02\n",
            " 2.66300e+03 1.32900e+03 1.49580e+04 2.16530e+04 1.48450e+04 2.22000e+03\n",
            " 5.90000e+01 0.00000e+00 0.00000e+00 1.32700e+03 0.00000e+00 1.22100e+03\n",
            " 1.80000e+02 0.00000e+00 2.52600e+03 1.34700e+03 1.90950e+04 1.47400e+03\n",
            " 1.62000e+02 1.98200e+03 2.00900e+03 0.00000e+00 3.86330e+04 2.49330e+04\n",
            " 1.87000e+02 5.56500e+03 2.40000e+01 3.39700e+03 0.00000e+00 4.56800e+03\n",
            " 8.20000e+02 1.25200e+03 0.00000e+00 0.00000e+00 2.27440e+04 4.50500e+03\n",
            " 2.11000e+02 1.39000e+02 4.94800e+03 1.12744e+05 6.37700e+03 0.00000e+00\n",
            " 6.30000e+01 3.17000e+02 0.00000e+00 1.03700e+03 2.25930e+04 4.62440e+04\n",
            " 1.52000e+02 3.45000e+02 8.05000e+02 0.00000e+00 0.00000e+00 0.00000e+00\n",
            " 1.07240e+04 0.00000e+00 2.36050e+04 3.06000e+02 3.06000e+02 3.40000e+01\n",
            " 2.80100e+03 0.00000e+00 6.68000e+03 1.10000e+02 3.16500e+03 8.15600e+03\n",
            " 3.12500e+03 0.00000e+00 0.00000e+00 0.00000e+00 2.45000e+02 0.00000e+00\n",
            " 6.70000e+01 2.60000e+01 7.62000e+02 0.00000e+00 0.00000e+00 3.20000e+01\n",
            " 0.00000e+00 0.00000e+00 0.00000e+00 0.00000e+00 7.80000e+01 2.20000e+01\n",
            " 6.09000e+02 4.08000e+02 0.00000e+00 1.57000e+02 0.00000e+00 0.00000e+00\n",
            " 0.00000e+00 9.13500e+03 0.00000e+00 0.00000e+00 1.42000e+02 4.79300e+03\n",
            " 0.00000e+00 0.00000e+00 8.18000e+02 0.00000e+00 9.15000e+02 3.80000e+01\n",
            " 1.32500e+03 1.78000e+02 1.50000e+01 3.85300e+03 5.05000e+02 1.60650e+04\n",
            " 7.21200e+03 0.00000e+00 0.00000e+00 0.00000e+00 1.16000e+02 0.00000e+00\n",
            " 0.00000e+00 1.60100e+03 0.00000e+00 0.00000e+00 0.00000e+00 1.07000e+02\n",
            " 0.00000e+00 0.00000e+00 3.93680e+04 0.00000e+00 1.51100e+03 8.70000e+01\n",
            " 0.00000e+00 0.00000e+00 0.00000e+00 3.81000e+02 8.00000e+00 0.00000e+00\n",
            " 0.00000e+00 0.00000e+00]\n"
          ]
        }
      ]
    },
    {
      "cell_type": "code",
      "source": [
        "from sklearn.impute import SimpleImputer\n",
        "imputer = SimpleImputer(missing_values=np.nan, strategy='mean')\n",
        "imputer.fit(x[:, 1:3])\n",
        "x[:, 1:3] = imputer.transform(x[:, 1:3])"
      ],
      "metadata": {
        "id": "fwCdJLKaMO_a",
        "colab": {
          "base_uri": "https://localhost:8080/",
          "height": 397
        },
        "outputId": "08811fa8-fd62-4c4c-f4f4-80088ecb2f76"
      },
      "execution_count": 158,
      "outputs": [
        {
          "output_type": "error",
          "ename": "ValueError",
          "evalue": "ignored",
          "traceback": [
            "\u001b[0;31m---------------------------------------------------------------------------\u001b[0m",
            "\u001b[0;31mValueError\u001b[0m                                Traceback (most recent call last)",
            "\u001b[0;32m<ipython-input-158-29649d3f3f64>\u001b[0m in \u001b[0;36m<cell line: 3>\u001b[0;34m()\u001b[0m\n\u001b[1;32m      1\u001b[0m \u001b[0;32mfrom\u001b[0m \u001b[0msklearn\u001b[0m\u001b[0;34m.\u001b[0m\u001b[0mimpute\u001b[0m \u001b[0;32mimport\u001b[0m \u001b[0mSimpleImputer\u001b[0m\u001b[0;34m\u001b[0m\u001b[0;34m\u001b[0m\u001b[0m\n\u001b[1;32m      2\u001b[0m \u001b[0mimputer\u001b[0m \u001b[0;34m=\u001b[0m \u001b[0mSimpleImputer\u001b[0m\u001b[0;34m(\u001b[0m\u001b[0mmissing_values\u001b[0m\u001b[0;34m=\u001b[0m\u001b[0mnp\u001b[0m\u001b[0;34m.\u001b[0m\u001b[0mnan\u001b[0m\u001b[0;34m,\u001b[0m \u001b[0mstrategy\u001b[0m\u001b[0;34m=\u001b[0m\u001b[0;34m'mean'\u001b[0m\u001b[0;34m)\u001b[0m\u001b[0;34m\u001b[0m\u001b[0;34m\u001b[0m\u001b[0m\n\u001b[0;32m----> 3\u001b[0;31m \u001b[0mimputer\u001b[0m\u001b[0;34m.\u001b[0m\u001b[0mfit\u001b[0m\u001b[0;34m(\u001b[0m\u001b[0mx\u001b[0m\u001b[0;34m[\u001b[0m\u001b[0;34m:\u001b[0m\u001b[0;34m,\u001b[0m \u001b[0;36m1\u001b[0m\u001b[0;34m:\u001b[0m\u001b[0;36m3\u001b[0m\u001b[0;34m]\u001b[0m\u001b[0;34m)\u001b[0m\u001b[0;34m\u001b[0m\u001b[0;34m\u001b[0m\u001b[0m\n\u001b[0m\u001b[1;32m      4\u001b[0m \u001b[0mx\u001b[0m\u001b[0;34m[\u001b[0m\u001b[0;34m:\u001b[0m\u001b[0;34m,\u001b[0m \u001b[0;36m1\u001b[0m\u001b[0;34m:\u001b[0m\u001b[0;36m3\u001b[0m\u001b[0;34m]\u001b[0m \u001b[0;34m=\u001b[0m \u001b[0mimputer\u001b[0m\u001b[0;34m.\u001b[0m\u001b[0mtransform\u001b[0m\u001b[0;34m(\u001b[0m\u001b[0mx\u001b[0m\u001b[0;34m[\u001b[0m\u001b[0;34m:\u001b[0m\u001b[0;34m,\u001b[0m \u001b[0;36m1\u001b[0m\u001b[0;34m:\u001b[0m\u001b[0;36m3\u001b[0m\u001b[0;34m]\u001b[0m\u001b[0;34m)\u001b[0m\u001b[0;34m\u001b[0m\u001b[0;34m\u001b[0m\u001b[0m\n",
            "\u001b[0;32m/usr/local/lib/python3.9/dist-packages/sklearn/impute/_base.py\u001b[0m in \u001b[0;36mfit\u001b[0;34m(self, X, y)\u001b[0m\n\u001b[1;32m    388\u001b[0m             )\n\u001b[1;32m    389\u001b[0m \u001b[0;34m\u001b[0m\u001b[0m\n\u001b[0;32m--> 390\u001b[0;31m         \u001b[0mX\u001b[0m \u001b[0;34m=\u001b[0m \u001b[0mself\u001b[0m\u001b[0;34m.\u001b[0m\u001b[0m_validate_input\u001b[0m\u001b[0;34m(\u001b[0m\u001b[0mX\u001b[0m\u001b[0;34m,\u001b[0m \u001b[0min_fit\u001b[0m\u001b[0;34m=\u001b[0m\u001b[0;32mTrue\u001b[0m\u001b[0;34m)\u001b[0m\u001b[0;34m\u001b[0m\u001b[0;34m\u001b[0m\u001b[0m\n\u001b[0m\u001b[1;32m    391\u001b[0m \u001b[0;34m\u001b[0m\u001b[0m\n\u001b[1;32m    392\u001b[0m         \u001b[0;31m# default fill_value is 0 for numerical input and \"missing_value\"\u001b[0m\u001b[0;34m\u001b[0m\u001b[0;34m\u001b[0m\u001b[0m\n",
            "\u001b[0;32m/usr/local/lib/python3.9/dist-packages/sklearn/impute/_base.py\u001b[0m in \u001b[0;36m_validate_input\u001b[0;34m(self, X, in_fit)\u001b[0m\n\u001b[1;32m    340\u001b[0m                     )\n\u001b[1;32m    341\u001b[0m                 )\n\u001b[0;32m--> 342\u001b[0;31m                 \u001b[0;32mraise\u001b[0m \u001b[0mnew_ve\u001b[0m \u001b[0;32mfrom\u001b[0m \u001b[0;32mNone\u001b[0m\u001b[0;34m\u001b[0m\u001b[0;34m\u001b[0m\u001b[0m\n\u001b[0m\u001b[1;32m    343\u001b[0m             \u001b[0;32melse\u001b[0m\u001b[0;34m:\u001b[0m\u001b[0;34m\u001b[0m\u001b[0;34m\u001b[0m\u001b[0m\n\u001b[1;32m    344\u001b[0m                 \u001b[0;32mraise\u001b[0m \u001b[0mve\u001b[0m\u001b[0;34m\u001b[0m\u001b[0;34m\u001b[0m\u001b[0m\n",
            "\u001b[0;31mValueError\u001b[0m: Cannot use mean strategy with non-numeric data:\ncould not convert string to float: 'USA'"
          ]
        }
      ]
    },
    {
      "cell_type": "code",
      "source": [
        "print(x)"
      ],
      "metadata": {
        "colab": {
          "base_uri": "https://localhost:8080/"
        },
        "id": "jdeDQyWRMSyy",
        "outputId": "7e5480f8-7cbe-46b2-aaf5-f9cc809de2e3"
      },
      "execution_count": 159,
      "outputs": [
        {
          "output_type": "stream",
          "name": "stdout",
          "text": [
            "[[0 'USA' 560433 ... 1693.0 67.0 2833112.0]\n",
            " [1 'Spain' 166831 ... 3568.0 368.0 600000.0]\n",
            " [2 'Italy' 156363 ... 2586.0 329.0 1010193.0]\n",
            " ...\n",
            " [209 'Timor-Leste' 2 ... 2.0 0.0 0.0]\n",
            " [210 'Saint Pierre Miquelon' 1 ... 173.0 0.0 0.0]\n",
            " [211 'Yemen' 1 ... 0.03 0.0 0.0]]\n"
          ]
        }
      ]
    },
    {
      "cell_type": "code",
      "source": [
        "from sklearn.compose import ColumnTransformer\n",
        "from sklearn.preprocessing import OneHotEncoder\n",
        "ct = ColumnTransformer(transformers=[('encoder', OneHotEncoder(), [0])], remainder='passthrough')\n",
        "x = np.array(ct.fit_transform(x))"
      ],
      "metadata": {
        "id": "MuSGdDYRMVd_",
        "colab": {
          "base_uri": "https://localhost:8080/",
          "height": 501
        },
        "outputId": "b2bf99af-daf2-48ad-b9ce-3347f3480619"
      },
      "execution_count": 160,
      "outputs": [
        {
          "output_type": "error",
          "ename": "ValueError",
          "evalue": "ignored",
          "traceback": [
            "\u001b[0;31m---------------------------------------------------------------------------\u001b[0m",
            "\u001b[0;31mValueError\u001b[0m                                Traceback (most recent call last)",
            "\u001b[0;32m/usr/local/lib/python3.9/dist-packages/sklearn/compose/_column_transformer.py\u001b[0m in \u001b[0;36m_hstack\u001b[0;34m(self, Xs)\u001b[0m\n\u001b[1;32m    829\u001b[0m                 \u001b[0;31m# dtype conversion if necessary.\u001b[0m\u001b[0;34m\u001b[0m\u001b[0;34m\u001b[0m\u001b[0m\n\u001b[0;32m--> 830\u001b[0;31m                 converted_Xs = [\n\u001b[0m\u001b[1;32m    831\u001b[0m                     \u001b[0mcheck_array\u001b[0m\u001b[0;34m(\u001b[0m\u001b[0mX\u001b[0m\u001b[0;34m,\u001b[0m \u001b[0maccept_sparse\u001b[0m\u001b[0;34m=\u001b[0m\u001b[0;32mTrue\u001b[0m\u001b[0;34m,\u001b[0m \u001b[0mforce_all_finite\u001b[0m\u001b[0;34m=\u001b[0m\u001b[0;32mFalse\u001b[0m\u001b[0;34m)\u001b[0m\u001b[0;34m\u001b[0m\u001b[0;34m\u001b[0m\u001b[0m\n",
            "\u001b[0;32m/usr/local/lib/python3.9/dist-packages/sklearn/compose/_column_transformer.py\u001b[0m in \u001b[0;36m<listcomp>\u001b[0;34m(.0)\u001b[0m\n\u001b[1;32m    830\u001b[0m                 converted_Xs = [\n\u001b[0;32m--> 831\u001b[0;31m                     \u001b[0mcheck_array\u001b[0m\u001b[0;34m(\u001b[0m\u001b[0mX\u001b[0m\u001b[0;34m,\u001b[0m \u001b[0maccept_sparse\u001b[0m\u001b[0;34m=\u001b[0m\u001b[0;32mTrue\u001b[0m\u001b[0;34m,\u001b[0m \u001b[0mforce_all_finite\u001b[0m\u001b[0;34m=\u001b[0m\u001b[0;32mFalse\u001b[0m\u001b[0;34m)\u001b[0m\u001b[0;34m\u001b[0m\u001b[0;34m\u001b[0m\u001b[0m\n\u001b[0m\u001b[1;32m    832\u001b[0m                     \u001b[0;32mfor\u001b[0m \u001b[0mX\u001b[0m \u001b[0;32min\u001b[0m \u001b[0mXs\u001b[0m\u001b[0;34m\u001b[0m\u001b[0;34m\u001b[0m\u001b[0m\n",
            "\u001b[0;32m/usr/local/lib/python3.9/dist-packages/sklearn/utils/validation.py\u001b[0m in \u001b[0;36mcheck_array\u001b[0;34m(array, accept_sparse, accept_large_sparse, dtype, order, copy, force_all_finite, ensure_2d, allow_nd, ensure_min_samples, ensure_min_features, estimator, input_name)\u001b[0m\n\u001b[1;32m    878\u001b[0m                 \u001b[0;32melse\u001b[0m\u001b[0;34m:\u001b[0m\u001b[0;34m\u001b[0m\u001b[0;34m\u001b[0m\u001b[0m\n\u001b[0;32m--> 879\u001b[0;31m                     \u001b[0marray\u001b[0m \u001b[0;34m=\u001b[0m \u001b[0m_asarray_with_order\u001b[0m\u001b[0;34m(\u001b[0m\u001b[0marray\u001b[0m\u001b[0;34m,\u001b[0m \u001b[0morder\u001b[0m\u001b[0;34m=\u001b[0m\u001b[0morder\u001b[0m\u001b[0;34m,\u001b[0m \u001b[0mdtype\u001b[0m\u001b[0;34m=\u001b[0m\u001b[0mdtype\u001b[0m\u001b[0;34m,\u001b[0m \u001b[0mxp\u001b[0m\u001b[0;34m=\u001b[0m\u001b[0mxp\u001b[0m\u001b[0;34m)\u001b[0m\u001b[0;34m\u001b[0m\u001b[0;34m\u001b[0m\u001b[0m\n\u001b[0m\u001b[1;32m    880\u001b[0m             \u001b[0;32mexcept\u001b[0m \u001b[0mComplexWarning\u001b[0m \u001b[0;32mas\u001b[0m \u001b[0mcomplex_warning\u001b[0m\u001b[0;34m:\u001b[0m\u001b[0;34m\u001b[0m\u001b[0;34m\u001b[0m\u001b[0m\n",
            "\u001b[0;32m/usr/local/lib/python3.9/dist-packages/sklearn/utils/_array_api.py\u001b[0m in \u001b[0;36m_asarray_with_order\u001b[0;34m(array, dtype, order, copy, xp)\u001b[0m\n\u001b[1;32m    184\u001b[0m         \u001b[0;31m# Use NumPy API to support order\u001b[0m\u001b[0;34m\u001b[0m\u001b[0;34m\u001b[0m\u001b[0m\n\u001b[0;32m--> 185\u001b[0;31m         \u001b[0marray\u001b[0m \u001b[0;34m=\u001b[0m \u001b[0mnumpy\u001b[0m\u001b[0;34m.\u001b[0m\u001b[0masarray\u001b[0m\u001b[0;34m(\u001b[0m\u001b[0marray\u001b[0m\u001b[0;34m,\u001b[0m \u001b[0morder\u001b[0m\u001b[0;34m=\u001b[0m\u001b[0morder\u001b[0m\u001b[0;34m,\u001b[0m \u001b[0mdtype\u001b[0m\u001b[0;34m=\u001b[0m\u001b[0mdtype\u001b[0m\u001b[0;34m)\u001b[0m\u001b[0;34m\u001b[0m\u001b[0;34m\u001b[0m\u001b[0m\n\u001b[0m\u001b[1;32m    186\u001b[0m         \u001b[0;32mreturn\u001b[0m \u001b[0mxp\u001b[0m\u001b[0;34m.\u001b[0m\u001b[0masarray\u001b[0m\u001b[0;34m(\u001b[0m\u001b[0marray\u001b[0m\u001b[0;34m,\u001b[0m \u001b[0mcopy\u001b[0m\u001b[0;34m=\u001b[0m\u001b[0mcopy\u001b[0m\u001b[0;34m)\u001b[0m\u001b[0;34m\u001b[0m\u001b[0;34m\u001b[0m\u001b[0m\n",
            "\u001b[0;31mValueError\u001b[0m: could not convert string to float: 'USA'",
            "\nThe above exception was the direct cause of the following exception:\n",
            "\u001b[0;31mValueError\u001b[0m                                Traceback (most recent call last)",
            "\u001b[0;32m<ipython-input-160-38ceef12a7c0>\u001b[0m in \u001b[0;36m<cell line: 4>\u001b[0;34m()\u001b[0m\n\u001b[1;32m      2\u001b[0m \u001b[0;32mfrom\u001b[0m \u001b[0msklearn\u001b[0m\u001b[0;34m.\u001b[0m\u001b[0mpreprocessing\u001b[0m \u001b[0;32mimport\u001b[0m \u001b[0mOneHotEncoder\u001b[0m\u001b[0;34m\u001b[0m\u001b[0;34m\u001b[0m\u001b[0m\n\u001b[1;32m      3\u001b[0m \u001b[0mct\u001b[0m \u001b[0;34m=\u001b[0m \u001b[0mColumnTransformer\u001b[0m\u001b[0;34m(\u001b[0m\u001b[0mtransformers\u001b[0m\u001b[0;34m=\u001b[0m\u001b[0;34m[\u001b[0m\u001b[0;34m(\u001b[0m\u001b[0;34m'encoder'\u001b[0m\u001b[0;34m,\u001b[0m \u001b[0mOneHotEncoder\u001b[0m\u001b[0;34m(\u001b[0m\u001b[0;34m)\u001b[0m\u001b[0;34m,\u001b[0m \u001b[0;34m[\u001b[0m\u001b[0;36m0\u001b[0m\u001b[0;34m]\u001b[0m\u001b[0;34m)\u001b[0m\u001b[0;34m]\u001b[0m\u001b[0;34m,\u001b[0m \u001b[0mremainder\u001b[0m\u001b[0;34m=\u001b[0m\u001b[0;34m'passthrough'\u001b[0m\u001b[0;34m)\u001b[0m\u001b[0;34m\u001b[0m\u001b[0;34m\u001b[0m\u001b[0m\n\u001b[0;32m----> 4\u001b[0;31m \u001b[0mx\u001b[0m \u001b[0;34m=\u001b[0m \u001b[0mnp\u001b[0m\u001b[0;34m.\u001b[0m\u001b[0marray\u001b[0m\u001b[0;34m(\u001b[0m\u001b[0mct\u001b[0m\u001b[0;34m.\u001b[0m\u001b[0mfit_transform\u001b[0m\u001b[0;34m(\u001b[0m\u001b[0mx\u001b[0m\u001b[0;34m)\u001b[0m\u001b[0;34m)\u001b[0m\u001b[0;34m\u001b[0m\u001b[0;34m\u001b[0m\u001b[0m\n\u001b[0m",
            "\u001b[0;32m/usr/local/lib/python3.9/dist-packages/sklearn/utils/_set_output.py\u001b[0m in \u001b[0;36mwrapped\u001b[0;34m(self, X, *args, **kwargs)\u001b[0m\n\u001b[1;32m    138\u001b[0m     \u001b[0;34m@\u001b[0m\u001b[0mwraps\u001b[0m\u001b[0;34m(\u001b[0m\u001b[0mf\u001b[0m\u001b[0;34m)\u001b[0m\u001b[0;34m\u001b[0m\u001b[0;34m\u001b[0m\u001b[0m\n\u001b[1;32m    139\u001b[0m     \u001b[0;32mdef\u001b[0m \u001b[0mwrapped\u001b[0m\u001b[0;34m(\u001b[0m\u001b[0mself\u001b[0m\u001b[0;34m,\u001b[0m \u001b[0mX\u001b[0m\u001b[0;34m,\u001b[0m \u001b[0;34m*\u001b[0m\u001b[0margs\u001b[0m\u001b[0;34m,\u001b[0m \u001b[0;34m**\u001b[0m\u001b[0mkwargs\u001b[0m\u001b[0;34m)\u001b[0m\u001b[0;34m:\u001b[0m\u001b[0;34m\u001b[0m\u001b[0;34m\u001b[0m\u001b[0m\n\u001b[0;32m--> 140\u001b[0;31m         \u001b[0mdata_to_wrap\u001b[0m \u001b[0;34m=\u001b[0m \u001b[0mf\u001b[0m\u001b[0;34m(\u001b[0m\u001b[0mself\u001b[0m\u001b[0;34m,\u001b[0m \u001b[0mX\u001b[0m\u001b[0;34m,\u001b[0m \u001b[0;34m*\u001b[0m\u001b[0margs\u001b[0m\u001b[0;34m,\u001b[0m \u001b[0;34m**\u001b[0m\u001b[0mkwargs\u001b[0m\u001b[0;34m)\u001b[0m\u001b[0;34m\u001b[0m\u001b[0;34m\u001b[0m\u001b[0m\n\u001b[0m\u001b[1;32m    141\u001b[0m         \u001b[0;32mif\u001b[0m \u001b[0misinstance\u001b[0m\u001b[0;34m(\u001b[0m\u001b[0mdata_to_wrap\u001b[0m\u001b[0;34m,\u001b[0m \u001b[0mtuple\u001b[0m\u001b[0;34m)\u001b[0m\u001b[0;34m:\u001b[0m\u001b[0;34m\u001b[0m\u001b[0;34m\u001b[0m\u001b[0m\n\u001b[1;32m    142\u001b[0m             \u001b[0;31m# only wrap the first output for cross decomposition\u001b[0m\u001b[0;34m\u001b[0m\u001b[0;34m\u001b[0m\u001b[0m\n",
            "\u001b[0;32m/usr/local/lib/python3.9/dist-packages/sklearn/compose/_column_transformer.py\u001b[0m in \u001b[0;36mfit_transform\u001b[0;34m(self, X, y)\u001b[0m\n\u001b[1;32m    749\u001b[0m         \u001b[0mself\u001b[0m\u001b[0;34m.\u001b[0m\u001b[0m_record_output_indices\u001b[0m\u001b[0;34m(\u001b[0m\u001b[0mXs\u001b[0m\u001b[0;34m)\u001b[0m\u001b[0;34m\u001b[0m\u001b[0;34m\u001b[0m\u001b[0m\n\u001b[1;32m    750\u001b[0m \u001b[0;34m\u001b[0m\u001b[0m\n\u001b[0;32m--> 751\u001b[0;31m         \u001b[0;32mreturn\u001b[0m \u001b[0mself\u001b[0m\u001b[0;34m.\u001b[0m\u001b[0m_hstack\u001b[0m\u001b[0;34m(\u001b[0m\u001b[0mlist\u001b[0m\u001b[0;34m(\u001b[0m\u001b[0mXs\u001b[0m\u001b[0;34m)\u001b[0m\u001b[0;34m)\u001b[0m\u001b[0;34m\u001b[0m\u001b[0;34m\u001b[0m\u001b[0m\n\u001b[0m\u001b[1;32m    752\u001b[0m \u001b[0;34m\u001b[0m\u001b[0m\n\u001b[1;32m    753\u001b[0m     \u001b[0;32mdef\u001b[0m \u001b[0mtransform\u001b[0m\u001b[0;34m(\u001b[0m\u001b[0mself\u001b[0m\u001b[0;34m,\u001b[0m \u001b[0mX\u001b[0m\u001b[0;34m)\u001b[0m\u001b[0;34m:\u001b[0m\u001b[0;34m\u001b[0m\u001b[0;34m\u001b[0m\u001b[0m\n",
            "\u001b[0;32m/usr/local/lib/python3.9/dist-packages/sklearn/compose/_column_transformer.py\u001b[0m in \u001b[0;36m_hstack\u001b[0;34m(self, Xs)\u001b[0m\n\u001b[1;32m    833\u001b[0m                 ]\n\u001b[1;32m    834\u001b[0m             \u001b[0;32mexcept\u001b[0m \u001b[0mValueError\u001b[0m \u001b[0;32mas\u001b[0m \u001b[0me\u001b[0m\u001b[0;34m:\u001b[0m\u001b[0;34m\u001b[0m\u001b[0;34m\u001b[0m\u001b[0m\n\u001b[0;32m--> 835\u001b[0;31m                 raise ValueError(\n\u001b[0m\u001b[1;32m    836\u001b[0m                     \u001b[0;34m\"For a sparse output, all columns should \"\u001b[0m\u001b[0;34m\u001b[0m\u001b[0;34m\u001b[0m\u001b[0m\n\u001b[1;32m    837\u001b[0m                     \u001b[0;34m\"be a numeric or convertible to a numeric.\"\u001b[0m\u001b[0;34m\u001b[0m\u001b[0;34m\u001b[0m\u001b[0m\n",
            "\u001b[0;31mValueError\u001b[0m: For a sparse output, all columns should be a numeric or convertible to a numeric."
          ]
        }
      ]
    },
    {
      "cell_type": "code",
      "source": [
        "print(x)"
      ],
      "metadata": {
        "colab": {
          "base_uri": "https://localhost:8080/"
        },
        "id": "okPq-HhCMYZM",
        "outputId": "31c00189-0055-4ad7-d252-608ad185d770"
      },
      "execution_count": 161,
      "outputs": [
        {
          "output_type": "stream",
          "name": "stdout",
          "text": [
            "[[0 'USA' 560433 ... 1693.0 67.0 2833112.0]\n",
            " [1 'Spain' 166831 ... 3568.0 368.0 600000.0]\n",
            " [2 'Italy' 156363 ... 2586.0 329.0 1010193.0]\n",
            " ...\n",
            " [209 'Timor-Leste' 2 ... 2.0 0.0 0.0]\n",
            " [210 'Saint Pierre Miquelon' 1 ... 173.0 0.0 0.0]\n",
            " [211 'Yemen' 1 ... 0.03 0.0 0.0]]\n"
          ]
        }
      ]
    },
    {
      "cell_type": "code",
      "source": [
        "from sklearn.preprocessing import LabelEncoder\n",
        "le = LabelEncoder()\n",
        "y = le.fit_transform(y)"
      ],
      "metadata": {
        "id": "ygP7CCfGMa6d"
      },
      "execution_count": 162,
      "outputs": []
    },
    {
      "cell_type": "code",
      "source": [
        "print(y)"
      ],
      "metadata": {
        "colab": {
          "base_uri": "https://localhost:8080/"
        },
        "id": "Sy2vk-nQMeb5",
        "outputId": "695b079c-3aef-4453-977a-1313fa8cca0e"
      },
      "execution_count": 163,
      "outputs": [
        {
          "output_type": "stream",
          "name": "stdout",
          "text": [
            "[115 125 137 102 133 103   0  81  96 116 106 142 121  34 134 114 136 128\n",
            " 118 104 120  19  74  62  44  95  89 146 129  83 123 122  33  75  32  36\n",
            "  84  15 154  72  87 153 139 112  51  45  50  55 110 124  41  64  94  30\n",
            "  12 155  67  29  93  88  52 127 145   0 138 149 108 132  76  85 126  90\n",
            "  71  92   0 101   0  54  78  61 131 141 130  73   9   0   0  60   0  57\n",
            "  26   0  77  63 140  65  24  69  70   0 150 148  27 105   4  86   0  98\n",
            "  49  58   0   0 144  97  28  20 100 156 107   0  10  37   0  56 143 152\n",
            "  22  38  47   0   0   0 119   0 147  35  35   7  79   0 109  17  82 113\n",
            "  80   0   0   0  31   0  11   5  46   0   0   6   0   0   0   0  13   3\n",
            "  43  40   0  23   0   0   0 117   0   0  21  99   0   0  48   0  53   8\n",
            "  59  25   2  91  42 135 111   0   0   0  18   0   0  68   0   0   0  16\n",
            "   0   0 151   0  66  14   0   0   0  39   1   0   0   0]\n"
          ]
        }
      ]
    },
    {
      "cell_type": "code",
      "source": [
        "from sklearn.model_selection import train_test_split\n",
        "x_train, x_test, y_train, y_test = train_test_split(x, y, test_size=0.2, random_state=1)"
      ],
      "metadata": {
        "id": "yi5JCFSHMifX"
      },
      "execution_count": 164,
      "outputs": []
    },
    {
      "cell_type": "code",
      "source": [
        "print(x_train)"
      ],
      "metadata": {
        "colab": {
          "base_uri": "https://localhost:8080/"
        },
        "id": "6DpaOhVAMkUg",
        "outputId": "ebbd8eb3-728d-4426-d611-b2723328eea9"
      },
      "execution_count": 165,
      "outputs": [
        {
          "output_type": "stream",
          "name": "stdout",
          "text": [
            "[[112 'Isle of Man' 228 ... 2681.0 24.0 1934.0]\n",
            " [95 'Kyrgyzstan' 419 ... 64.0 0.8 9618.0]\n",
            " [84 'Bangladesh' 621 ... 4.0 0.2 9653.0]\n",
            " ...\n",
            " [72 'Uzbekistan' 896 ... 27.0 0.1 70000.0]\n",
            " [140 'Bermuda' 57 ... 915.0 64.0 416.0]\n",
            " [37 'Indonesia' 4241 ... 16.0 1.0 27075.0]]\n"
          ]
        }
      ]
    },
    {
      "cell_type": "code",
      "source": [
        "print(x_test)"
      ],
      "metadata": {
        "colab": {
          "base_uri": "https://localhost:8080/"
        },
        "id": "YWhmGEzAMn-z",
        "outputId": "27593100-f583-46f0-86a4-c0d1be68e25b"
      },
      "execution_count": 166,
      "outputs": [
        {
          "output_type": "stream",
          "name": "stdout",
          "text": [
            "[[44 'Dominican Republic' 2967 0 173.0 0.0 131.0 2663 147.0 274.0 16.0\n",
            "  9275.0]\n",
            " [190 'Gambia' 9 0 1.0 0.0 2.0 6 0.0 4.0 0.4 281.0]\n",
            " [51 'South Africa' 2173 0 25.0 0.0 410.0 1738 7.0 37.0 0.4 80085.0]\n",
            " [93 'Albania' 446 0 23.0 0.0 217.0 206 7.0 155.0 8.0 3877.0]\n",
            " [35 'Philippines' 4648 0 297.0 0.0 197.0 4154 1.0 42.0 3.0 33814.0]\n",
            " [89 'Ghana' 566 0 8.0 0.0 4.0 554 2.0 18.0 0.3 37954.0]\n",
            " [33 'Malaysia' 4683 0 76.0 0.0 2108.0 2499 66.0 145.0 2.0 77491.0]\n",
            " [151 'Myanmar' 41 0 4.0 0.0 2.0 35 0.0 0.8 0.07 1406.0]\n",
            " [205 'Anguilla' 3 0 0.0 0.0 0.0 3 0.0 200.0 0.0 0.0]\n",
            " [206 'British Virgin Islands' 3 0 0.0 0.0 2.0 1 0.0 99.0 0.0 0.0]\n",
            " [207 'Caribbean Netherlands' 3 0 0.0 0.0 0.0 3 0.0 114.0 0.0 10.0]\n",
            " [4 'Germany' 127854 0 3022.0 0.0 64300.0 60532 4895.0 1526.0 36.0\n",
            "  1317887.0]\n",
            " [47 'Thailand' 2579 28 40.0 2.0 1288.0 1251 61.0 37.0 0.6 71860.0]\n",
            " [18 'S. Korea' 10537 25 217.0 3.0 7447.0 2873 55.0 206.0 4.0 514621.0]\n",
            " [59 'Hungary' 1458 48 109.0 10.0 120.0 1229 58.0 151.0 11.0 34819.0]\n",
            " [204 'South Sudan' 4 0 0.0 0.0 0.0 4 0.0 0.4 0.0 0.0]\n",
            " [176 'Grenada' 14 0 0.0 0.0 0.0 14 2.0 124.0 0.0 92.0]\n",
            " [67 'Lithuania' 1062 9 24.0 1.0 101.0 937 14.0 390.0 9.0 41503.0]\n",
            " [38 'UAE' 4123 0 22.0 0.0 680.0 3421 1.0 417.0 2.0 648195.0]\n",
            " [34 'Mexico' 4661 442 296.0 23.0 1843.0 2522 185.0 36.0 2.0 36594.0]\n",
            " [58 'Croatia' 1600 0 23.0 0.0 373.0 1204 34.0 390.0 6.0 16381.0]\n",
            " [31 'Czechia' 5991 0 138.0 0.0 464.0 5389 87.0 559.0 13.0 125126.0]\n",
            " [108 'Georgia' 266 9 3.0 0.0 67.0 196 6.0 67.0 0.8 3271.0]\n",
            " [179 'Zimbabwe' 14 0 3.0 0.0 0.0 11 0.0 0.9 0.2 563.0]\n",
            " [40 'Panama' 3400 0 87.0 0.0 29.0 3284 106.0 788.0 20.0 15147.0]\n",
            " [185 'Greenland' 11 0 0.0 0.0 11.0 0 0.0 194.0 0.0 912.0]\n",
            " [11 'Switzerland' 25415 0 1106.0 0.0 12700.0 11609 386.0 2937.0 128.0\n",
            "  193800.0]\n",
            " [0 'USA' 560433 133 22115.0 10.0 32634.0 505684 11766.0 1693.0 67.0\n",
            "  2833112.0]\n",
            " [29 'Romania' 6300 0 316.0 0.0 852.0 5132 204.0 327.0 16.0 62328.0]\n",
            " [73 'North Macedonia' 828 0 34.0 0.0 41.0 753 15.0 397.0 16.0 8057.0]\n",
            " [150 'Zambia' 43 0 2.0 0.0 30.0 11 1.0 2.0 0.1 1239.0]\n",
            " [106 'Senegal' 280 0 2.0 0.0 171.0 107 1.0 17.0 0.1 0.0]\n",
            " [202 'Bhutan' 5 0 0.0 0.0 2.0 3 0.0 6.0 0.0 1166.0]\n",
            " [28 'Australia' 6351 38 61.0 2.0 3338.0 2952 81.0 249.0 2.0 353941.0]\n",
            " [16 'Austria' 13945 0 350.0 0.0 6987.0 6608 243.0 1548.0 39.0 144877.0]\n",
            " [97 'Taiwan' 393 5 6.0 0.0 114.0 273 0.0 17.0 0.3 47215.0]\n",
            " [160 'Libya' 25 0 1.0 0.0 9.0 15 0.0 4.0 0.1 535.0]\n",
            " [88 'Ivory Coast' 574 0 5.0 0.0 85.0 484 0.0 22.0 0.2 0.0]\n",
            " [27 'Norway' 6525 0 128.0 0.0 32.0 6365 59.0 1204.0 24.0 126486.0]\n",
            " [155 'Haiti' 33 0 3.0 0.0 0.0 30 0.0 3.0 0.3 365.0]\n",
            " [62 'Estonia' 1309 0 25.0 0.0 98.0 1186 11.0 987.0 19.0 30349.0]\n",
            " [211 'Yemen' 1 0 0.0 0.0 0.0 1 0.0 0.03 0.0 0.0]\n",
            " [107 'Montenegro' 272 0 3.0 0.0 5.0 264 7.0 433.0 5.0 2869.0]]\n"
          ]
        }
      ]
    },
    {
      "cell_type": "code",
      "source": [
        "print(y_train)"
      ],
      "metadata": {
        "colab": {
          "base_uri": "https://localhost:8080/"
        },
        "id": "0sVBTv2SMq2e",
        "outputId": "4cb37fdc-345e-4a6e-a974-623da8650a08"
      },
      "execution_count": 167,
      "outputs": [
        {
          "output_type": "stream",
          "name": "stdout",
          "text": [
            "[144  65   9  31   0   0  28 143   0  56   0  85 134   0  91 104  27  26\n",
            "  72 156   0  67   2 155   0  30   0 117  78 107 139 128 103  68   0 110\n",
            "   0 108  99  12  70  38   0 140   0 119 121   0   0  46 151  23  86 141\n",
            "  79   0  34   0 130 113   0  45   0 105  84  21  16   0   0 100   0   0\n",
            "  42 101  19   0  40 137 126   0   3   0   0   0  10   0   0  54  97 149\n",
            "  50   0  77   0  60   0 106  33  35  73   0 150 152  62  22 116  25   4\n",
            "  43  35   0   0 138 114 153   0  58 131  94  89   0 112  44 102  59 124\n",
            "   0   0   0 123  37  20 111  96  52  47 125  29  74 127   0  81   1  17\n",
            "   0  24  76  41  82   0   0   0   0 148 120  53  95 147  90   0  80   0\n",
            "  61   0  14   7  71 109  15]\n"
          ]
        }
      ]
    },
    {
      "cell_type": "code",
      "source": [
        "print(y_test)"
      ],
      "metadata": {
        "colab": {
          "base_uri": "https://localhost:8080/"
        },
        "id": "T_uYNJ86MsXW",
        "outputId": "9d7ed780-016d-4ea1-c4cb-273ac62ddb19"
      },
      "execution_count": 168,
      "outputs": [
        {
          "output_type": "stream",
          "name": "stdout",
          "text": [
            "[ 51  18  64  63  36  57  75   5   0   0  39 133  55 118  88   0  48 132\n",
            " 154  32  93 122  49   8  87 135 142 115  83  92  11   0  66 129 136  69\n",
            "  13   0 146   6 145   0  98]\n"
          ]
        }
      ]
    },
    {
      "cell_type": "code",
      "source": [
        "from sklearn.preprocessing import StandardScaler\n",
        "sc = StandardScaler()\n",
        "x_train[:, 3:] = sc.fit_transform(x_train[:, 3:])\n",
        "x_test[:, 3:] = sc.transform(x_test[:, 3:])"
      ],
      "metadata": {
        "id": "4Y9PfbOGMvEv"
      },
      "execution_count": 169,
      "outputs": []
    },
    {
      "cell_type": "code",
      "source": [
        "print(x_train)"
      ],
      "metadata": {
        "colab": {
          "base_uri": "https://localhost:8080/"
        },
        "id": "d4eCC9uoMymF",
        "outputId": "cb3c5adb-59d0-4ce0-b915-5cd692111d01"
      },
      "execution_count": 170,
      "outputs": [
        {
          "output_type": "stream",
          "name": "stdout",
          "text": [
            "[[112 'Isle of Man' 228 ... 1.3727232972660757 -0.013362678997082862\n",
            "  -0.3102905179502671]\n",
            " [95 'Kyrgyzstan' 419 ... -0.36793596234333886 -0.24966247969960115\n",
            "  -0.25586496567117034]\n",
            " [84 'Bangladesh' 621 ... -0.40784408445895404 -0.2557736814419077\n",
            "  -0.25561706167198134]\n",
            " ...\n",
            " [72 'Uzbekistan' 896 ... -0.39254597098130156 -0.2567922150656254\n",
            "  0.17181901372971686]\n",
            " [140 'Bermuda' 57 ... 0.1980942363298028 0.3940507704900177\n",
            "  -0.32104246854366486]\n",
            " [37 'Indonesia' 4241 ... -0.399862460035831 -0.24762541245216566\n",
            "  -0.1322175338470955]]\n"
          ]
        }
      ]
    },
    {
      "cell_type": "code",
      "source": [
        "print(x_test)"
      ],
      "metadata": {
        "colab": {
          "base_uri": "https://localhost:8080/"
        },
        "id": "bFXwxZz-M1co",
        "outputId": "99b14856-fb71-4267-a150-f25de547d1cf"
      },
      "execution_count": 171,
      "outputs": [
        {
          "output_type": "stream",
          "name": "stdout",
          "text": [
            "[[44 'Dominican Republic' 2967 -0.21335669714402408 -0.1351954497170915\n",
            "  -0.21122131304500308 -0.17843145211280764 -0.09262762847313709\n",
            "  -0.05029751274265354 -0.2282575349386858 -0.09484536889450297\n",
            "  -0.2582944248632227]\n",
            " [190 'Gambia' 9 -0.21335669714402408 -0.20501372627076134\n",
            "  -0.21122131304500308 -0.192923120626684 -0.27724847776905237\n",
            "  -0.21674764049884668 -0.40784408445895404 -0.2537366141944722\n",
            "  -0.32199866968339397]\n",
            " [51 'South Africa' 2173 -0.21335669714402408 -0.19527164117024928\n",
            "  -0.21122131304500308 -0.14708900625721455 -0.15690097645910683\n",
            "  -0.20882144393902796 -0.38589461729536567 -0.2537366141944722\n",
            "  0.24325078035317993]\n",
            " [93 'Albania' 446 -0.21335669714402408 -0.19608348159529196\n",
            "  -0.21122131304500308 -0.16877033977022338 -0.26335153766397784\n",
            "  -0.20882144393902796 -0.30740864380132255 -0.17632805879192306\n",
            "  -0.29652830450957407]\n",
            " [35 'Philippines' 4648 -0.21335669714402408 -0.08486134336444577\n",
            "  -0.21122131304500308 -0.1710171100824523 0.01097406001019362\n",
            "  -0.21561532670458686 -0.38256894045239775 -0.22725473997781065\n",
            "  -0.08448538954610219]\n",
            " [89 'Ghana' 566 -0.21335669714402408 -0.202172284783112\n",
            "  -0.21122131304500308 -0.19269844359546112 -0.2391708618811481\n",
            "  -0.21448301291032704 -0.3985321892986438 -0.2547551478181899\n",
            "  -0.055161887927744506]\n",
            " [33 'Malaysia' 4683 -0.21335669714402408 -0.1745697103316611\n",
            "  -0.21122131304500308 0.04366179325101855 -0.1040231193592982\n",
            "  -0.14201493007769875 -0.3140599974872584 -0.23744007621498814\n",
            "  0.22487755252757127]\n",
            " [151 'Myanmar' 41 -0.21335669714402408 -0.20379596563319732\n",
            "  -0.21122131304500308 -0.192923120626684 -0.2752334214538166\n",
            "  -0.21674764049884668 -0.40997251763845355 -0.25709777515274074\n",
            "  -0.31403032685231846]\n",
            " [205 'Anguilla' 3 -0.21335669714402408 -0.20541964648328268\n",
            "  -0.21122131304500308 -0.19314779765790688 -0.2774569318706285\n",
            "  -0.21674764049884668 -0.2774775522146112 -0.25781074868934317\n",
            "  -0.32398898464831144]\n",
            " [206 'British Virgin Islands' 3 -0.21335669714402408\n",
            "  -0.20541964648328268 -0.21122131304500308 -0.192923120626684\n",
            "  -0.2775959012716792 -0.21674764049884668 -0.34465622444256333\n",
            "  -0.25781074868934317 -0.32398898464831144]\n",
            " [207 'Caribbean Netherlands' 3 -0.21335669714402408 -0.20541964648328268\n",
            "  -0.21122131304500308 -0.19314779765790688 -0.2774569318706285\n",
            "  -0.21674764049884668 -0.3346791939136596 -0.25781074868934317\n",
            "  -0.32391815493425746]\n",
            " [4 'Germany' 127854 -0.21335669714402408 1.021271235756196\n",
            "  -0.21122131304500308 7.030218756157987 3.928382506229656\n",
            "  5.325928382402958 0.6044919465404838 0.1088613558490473\n",
            "  9.010566951900612]\n",
            " [47 'Thailand' 2579 1.3233311124229805 -0.18918283798242921\n",
            "  2.432956605814665 -0.04845578955036611 -0.19074002561496334\n",
            "  -0.14767649904899782 -0.38589461729536567 -0.25169954694703667\n",
            "  0.1849933405437616]\n",
            " [18 'S. Korea' 10537 1.1586859899693729 -0.11733496036615268\n",
            "  3.7550455652444987 0.6434371281005218 -0.07803584136280882\n",
            "  -0.15447038181455672 -0.2734867400030497 -0.21706940374063313\n",
            "  3.32105684297025]\n",
            " [59 'Hungary' 1458 2.4209652621136977 -0.161174343318457\n",
            "  13.009668281253337 -0.17966717578453353 -0.19226868902652153\n",
            "  -0.15107344043177728 -0.3100691852756969 -0.14577205008039054\n",
            "  -0.07736700328367477]\n",
            " [204 'South Sudan' 4 -0.21335669714402408 -0.20541964648328268\n",
            "  -0.21122131304500308 -0.19314779765790688 -0.2773874471701031\n",
            "  -0.21674764049884668 -0.41023857178589096 -0.25781074868934317\n",
            "  -0.32398898464831144]\n",
            " [176 'Grenada' 14 -0.21335669714402408 -0.20541964648328268\n",
            "  -0.21122131304500308 -0.19314779765790688 -0.27669260016484937\n",
            "  -0.21448301291032704 -0.3280278402277237 -0.25781074868934317\n",
            "  -0.32333735127901464]\n",
            " [67 'Lithuania' 1062 0.2805786702167988 -0.19567756138277062\n",
            "  1.1108676463848308 -0.18180160758115096 -0.21255822157993037\n",
            "  -0.20089524737920922 -0.15110183218182985 -0.16614272255474555\n",
            "  -0.03002442240997847]\n",
            " [38 'UAE' 4123 -0.21335669714402408 -0.19648940180781327\n",
            "  -0.21122131304500308 -0.11675760704212448 -0.039958225474904574\n",
            "  -0.21561532670458686 -0.133143177229803 -0.23744007621498814\n",
            "  4.267157665475203]\n",
            " [34 'Mexico' 4661 24.04435801102083 -0.08526726357696711\n",
            "  30.196824753841177 0.0138920866139857 -0.10242497124721463\n",
            "  -0.007269588560780488 -0.38655975266395926 -0.23744007621498814\n",
            "  -0.06479472903908906]\n",
            " [58 'Croatia' 1600 -0.21335669714402408 -0.19608348159529196\n",
            "  -0.21122131304500308 -0.151245531334838 -0.19400580653965585\n",
            "  -0.1782489714940129 -0.15110183218182985 -0.1966987312662781\n",
            "  -0.20796283005644742]\n",
            " [31 'Czechia' 5991 -0.21335669714402408 -0.14940265715533826\n",
            "  -0.21122131304500308 -0.14102272641419655 0.09678766515902891\n",
            "  -0.11823634039824257 -0.03869395488951381 -0.1254013776060355\n",
            "  0.5622748954238196]\n",
            " [108 'Georgia' 266 0.2805786702167988 -0.20420188584571866\n",
            "  -0.21122131304500308 -0.1856211171119401 -0.2640463846692315\n",
            "  -0.20995375773328778 -0.3659405562375581 -0.24966247969960115\n",
            "  -0.3008205851812467]\n",
            " [179 'Zimbabwe' 14 -0.21335669714402408 -0.20420188584571866\n",
            "  -0.21122131304500308 -0.19314779765790688 -0.2769010542664255\n",
            "  -0.21674764049884668 -0.40990600410159417 -0.2557736814419077\n",
            "  -0.32000127174707105]\n",
            " [40 'Panama' 3400 -0.21335669714402408 -0.17010458799392641\n",
            "  -0.21122131304500308 -0.189889980705175 -0.04947762944688063\n",
            "  -0.09672237830730605 0.11362204451841737 -0.05410402394579292\n",
            "  -0.21670321677071153]\n",
            " [185 'Greenland' 11 -0.21335669714402408 -0.20541964648328268\n",
            "  -0.21122131304500308 -0.191912073986181 -0.2776653859722046\n",
            "  -0.21674764049884668 -0.2814683644261727 -0.25781074868934317\n",
            "  -0.3175293147265863]\n",
            " [11 'Switzerland' 25415 -0.21335669714402408 0.24352810856531537\n",
            "  -0.21122131304500308 1.233551350607441 0.5289825024268471\n",
            "  0.22032548408544278 1.5429979516260337 1.0459122896693784\n",
            "  1.048690873718287]\n",
            " [0 'USA' 560433 7.085910398299246 8.771505853426072 13.009668281253337\n",
            "  3.4729073208059797 34.859635914500366 13.106056462762162\n",
            "  0.7155695530956127 0.4246067792015502 19.74286229964844]\n",
            " [29 'Romania' 6300 -0.21335669714402408 -0.07714885932654038\n",
            "  -0.21122131304500308 -0.09743538235695601 0.07893009712400813\n",
            "  0.01424437353015604 -0.19300536040322575 -0.09484536889450297\n",
            "  0.11747845710748496]\n",
            " [73 'North Macedonia' 828 -0.21335669714402408 -0.19161835925755724\n",
            "  -0.21122131304500308 -0.18854191851783766 -0.22534340647659895\n",
            "  -0.19976293358494943 -0.14644588460167474 -0.09484536889450297\n",
            "  -0.2669214840350004]\n",
            " [150 'Zambia' 43 -0.21335669714402408 -0.20460780605824\n",
            "  -0.21122131304500308 -0.18977764218956356 -0.2769010542664255\n",
            "  -0.21561532670458686 -0.4091743551961412 -0.2567922150656254\n",
            "  -0.31521318307702034]\n",
            " [106 'Senegal' 280 -0.21335669714402408 -0.20460780605824\n",
            "  -0.21122131304500308 -0.17393791148834983 -0.2702305230159897\n",
            "  -0.21561532670458686 -0.3991973246672374 -0.2567922150656254\n",
            "  -0.32398898464831144]\n",
            " [202 'Bhutan' 5 -0.21335669714402408 -0.20541964648328268\n",
            "  -0.21122131304500308 -0.192923120626684 -0.2774569318706285\n",
            "  -0.21674764049884668 -0.40651381372176687 -0.25781074868934317\n",
            "  -0.3157302399896146]\n",
            " [28 'Australia' 6351 1.872148187268339 -0.18065851351948117\n",
            "  2.432956605814665 0.18183816745309553 -0.07254655002130438\n",
            "  -0.12503022316380147 -0.24488591915352545 -0.23744007621498814\n",
            "  2.182964997550513]\n",
            " [16 'Austria' 13945 -0.21335669714402408 -0.06334757210081494\n",
            "  -0.21122131304500308 0.5917614109192573 0.18148951509945824\n",
            "  0.05840461150628891 0.6191249246495427 0.13941736456057982\n",
            "  0.702170663651883]\n",
            " [97 'Taiwan' 393 0.06105184027865528 -0.20298412520815468\n",
            "  -0.21122131304500308 -0.18034120687820218 -0.2586960627287778\n",
            "  -0.21674764049884668 -0.3991973246672374 -0.2547551478181899\n",
            "  0.01043351025766864]\n",
            " [160 'Libya' 25 -0.21335669714402408 -0.20501372627076134\n",
            "  -0.21122131304500308 -0.19213675101740388 -0.276623115464324\n",
            "  -0.21674764049884668 -0.40784408445895404 -0.2567922150656254\n",
            "  -0.32019959494642225]\n",
            " [88 'Ivory Coast' 574 -0.21335669714402408 -0.203390045420676\n",
            "  -0.21122131304500308 -0.1835990238309341 -0.2440347909179242\n",
            "  -0.21674764049884668 -0.3958716478242695 -0.2557736814419077\n",
            "  -0.32398898464831144]\n",
            " [27 'Norway' 6525 -0.21335669714402408 -0.15346185928055162\n",
            "  -0.21122131304500308 -0.18955296515834066 0.16460473287179267\n",
            "  -0.14994112663751746 0.3903183578533491 -0.013362678997082862\n",
            "  0.5719077365351641]\n",
            " [155 'Haiti' 33 -0.21335669714402408 -0.20420188584571866\n",
            "  -0.21122131304500308 -0.19314779765790688 -0.2755808449564434\n",
            "  -0.21674764049884668 -0.4085092198275476 -0.2547551478181899\n",
            "  -0.3214037000853403]\n",
            " [62 'Estonia' 1309 -0.21335669714402408 -0.19527164117024928\n",
            "  -0.21122131304500308 -0.18213862312798532 -0.19525653114911257\n",
            "  -0.20429218876198868 0.24598398286854098 -0.06428936018297043\n",
            "  -0.10902788546581459]\n",
            " [211 'Yemen' 1 -0.21335669714402408 -0.20541964648328268\n",
            "  -0.21122131304500308 -0.19314779765790688 -0.2775959012716792\n",
            "  -0.21674764049884668 -0.41048467187227056 -0.25781074868934317\n",
            "  -0.32398898464831144]\n",
            " [107 'Montenegro' 272 -0.21335669714402408 -0.20420188584571866\n",
            "  -0.21122131304500308 -0.19258610507984966 -0.2593214250335062\n",
            "  -0.20882144393902796 -0.12250101133230565 -0.20688406750345562\n",
            "  -0.3036679396862177]]\n"
          ]
        }
      ]
    }
  ]
}